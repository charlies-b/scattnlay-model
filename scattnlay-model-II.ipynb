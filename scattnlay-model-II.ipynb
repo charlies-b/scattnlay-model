{
 "cells": [
  {
   "cell_type": "code",
   "execution_count": 296,
   "id": "03efab26",
   "metadata": {},
   "outputs": [],
   "source": [
    "from scattnlay import scattnlay, fieldnlay\n",
    "import numpy as np\n",
    "import matplotlib.pyplot as plt\n",
    "from copy import deepcopy\n",
    "import time "
   ]
  },
  {
   "cell_type": "code",
   "execution_count": 297,
   "id": "51ccfb07",
   "metadata": {},
   "outputs": [
    {
     "name": "stdout",
     "output_type": "stream",
     "text": [
      "Help on function scattnlay in module scattnlay.main:\n",
      "\n",
      "scattnlay(x, m, theta=array([], dtype=float64), nmax=-1, pl=-1, mp=False)\n",
      "    scattnlay(x, m[, theta, nmax, pl, mp])\n",
      "    \n",
      "    Calculate the actual scattering parameters and amplitudes.\n",
      "    \n",
      "        x: Size parameters (1D or 2D ndarray)\n",
      "        m: Relative refractive indices (1D or 2D ndarray)\n",
      "        theta: Scattering angles where the scattering amplitudes will be\n",
      "               calculated (optional, 1D ndarray)\n",
      "        nmax: Maximum number of multipolar expansion terms to be used for the\n",
      "              calculations. Only use it if you know what you are doing.\n",
      "        pl: Index of PEC layer. If there is none just send -1.\n",
      "        mp: Use multiple (True) or double (False) precision.\n",
      "    \n",
      "    Returns: (terms, Qext, Qsca, Qabs, Qbk, Qpr, g, Albedo, S1, S2)\n",
      "    with\n",
      "        terms: Number of multipolar expansion terms used for the calculations\n",
      "        Qext: Efficiency factor for extinction\n",
      "        Qsca: Efficiency factor for scattering\n",
      "        Qabs: Efficiency factor for absorption (Qabs = Qext - Qsca)\n",
      "        Qbk: Efficiency factor for backscattering\n",
      "        Qpr: Efficiency factor for the radiation pressure\n",
      "        g: Asymmetry factor (g = (Qext-Qpr)/Qsca)\n",
      "        Albedo: Single scattering albedo (Albedo = Qsca/Qext)\n",
      "        S1, S2: Complex scattering amplitudes\n",
      "\n"
     ]
    }
   ],
   "source": [
    "help(scattnlay)"
   ]
  },
  {
   "cell_type": "code",
   "execution_count": 298,
   "id": "eab8a64d",
   "metadata": {},
   "outputs": [],
   "source": [
    "def scattnlay_wrap(size, wavelength, theta): # returns scattering amplitudes & cross-sections for water droplets\n",
    "    x = get_x(size, wavelength)\n",
    "    m = complex(1.33 + 0.0j) # water\n",
    "    terms, Qext, Qsca, Qabs, Qbk, Qpr, g, Albedo, S1, S2 = scattnlay(np.array([x]), np.array([m]), theta)\n",
    "    sigma_t = Qsca*np.pi*(size/2)**2\n",
    "    return sigma_t, S1, S2\n",
    "\n",
    "def get_x(size, wavelength): # returns size parameter of droplet diameter size\n",
    "    return size*np.pi/wavelength\n",
    "                   \n",
    "def get_theta(deg_step):\n",
    "    return np.arange(0, np.pi, np.radians(deg_step))\n",
    "\n",
    "def get_phi(deg_step):\n",
    "    return np.arange(0, 2*np.pi, np.radians(deg_step))\n",
    "\n",
    "def phase_function(S1, S2): # unpolarised \n",
    "    return abs(S1)**2+abs(S2)**2\n",
    "\n",
    "def theta_normalisation(y, theta):\n",
    "    return np.trapz(y*np.sin(theta), theta)*2*np.pi\n",
    "\n",
    "def differential_sigma(size, wavelength, theta):\n",
    "    sigma_t, S1, S2 = scattnlay_wrap(size, wavelength, theta)\n",
    "    p = phase_function(S1, S2)\n",
    "    N = theta_normalisation(p, theta)\n",
    "    return sigma_t*p/N\n",
    "\n",
    "def get_size_range(min_um, max_um, um_step):\n",
    "    return np.arange(min_um*10**-6, max_um*10**-6, um_step*10**-6) "
   ]
  },
  {
   "cell_type": "code",
   "execution_count": 299,
   "id": "22a4b88a",
   "metadata": {},
   "outputs": [
    {
     "data": {
      "text/plain": [
       "[<matplotlib.lines.Line2D at 0x7f905c0bc280>]"
      ]
     },
     "execution_count": 299,
     "metadata": {},
     "output_type": "execute_result"
    },
    {
     "data": {
      "image/png": "[encoded data removed]",
      "text/plain": [
       "<Figure size 640x480 with 1 Axes>"
      ]
     },
     "metadata": {},
     "output_type": "display_data"
    }
   ],
   "source": [
    "size = 0.26*2*10**-6\n",
    "wavelength = 550e-9 \n",
    "theta = get_theta(0.1)\n",
    "\n",
    "s = differential_sigma(size, wavelength, theta)\n",
    "plt.yscale(\"log\")\n",
    "plt.plot(theta, s)"
   ]
  },
  {
   "cell_type": "code",
   "execution_count": 328,
   "id": "3802fd14",
   "metadata": {},
   "outputs": [
    {
     "name": "stdout",
     "output_type": "stream",
     "text": [
      "92.14854288101196\n"
     ]
    }
   ],
   "source": [
    "def sint_sphere(theta, phi, integrand): # soild angle integration over sphere\n",
    "    integrand = integrand*np.array([np.sin(theta)]*np.size(phi)) # theta x phi numerical integrand array\n",
    "    return np.trapz(np.trapz(integrand, theta), phi)\n",
    "\n",
    "def sint_theta(theta, theta_curve, theta1, theta2): # solid angle integration over theta range\n",
    "    # get numerical range\n",
    "    (index1, theta1) = min(enumerate(theta), key=lambda x: abs(theta1 - x[1])) \n",
    "    (index2, theta2) = min(enumerate(theta), key=lambda x: abs(theta2 - x[1]))\n",
    "    curve_range = theta_curve[index1:index2+1]\n",
    "    theta_range = theta[index1:index2+1]\n",
    "    # integrate numerical range\n",
    "    return np.trapz(curve_range*np.sin(theta_range), theta_range)*2*np.pi\n",
    "    \n",
    "t0 = time.time()\n",
    "min_um, max_um, um_step = 1, 50, 0.05\n",
    "wavelength = 632.8e-9 # FSSP\n",
    "theta1, theta2 = np.radians(4.6), np.radians(12.8)  # FSSP\n",
    "deg_step = 0.5\n",
    "\n",
    "size_range = get_size_range(min_um, max_um, um_step)\n",
    "theta = get_theta(deg_step)\n",
    "d_sigmas_fssp = list(map(lambda x: differential_sigma(x, wavelength, theta), size_range))\n",
    "t1 = time.time()\n",
    "print(t1-t0)"
   ]
  },
  {
   "cell_type": "code",
   "execution_count": 329,
   "id": "35b377e0",
   "metadata": {},
   "outputs": [
    {
     "name": "stdout",
     "output_type": "stream",
     "text": [
      "0.16101503372192383\n"
     ]
    },
    {
     "data": {
      "text/plain": [
       "[<matplotlib.lines.Line2D at 0x7f901fc9b610>]"
      ]
     },
     "execution_count": 329,
     "metadata": {},
     "output_type": "execute_result"
    },
    {
     "data": {
      "image/png": "[encoded data removed]",
      "text/plain": [
       "<Figure size 640x480 with 1 Axes>"
      ]
     },
     "metadata": {},
     "output_type": "display_data"
    }
   ],
   "source": [
    "t0 = time.time()\n",
    "int_sigmas_fssp = list(map(lambda x: sint_theta(theta, x, theta1, theta2), d_sigmas_fssp))\n",
    "t1 = time.time()\n",
    "print(t1-t0)\n",
    "\n",
    "plt.yscale(\"log\")\n",
    "plt.xscale(\"log\")\n",
    "plt.plot(size_range*10**6, int_sigmas_fssp, linewidth=0.33, color=\"red\")"
   ]
  },
  {
   "cell_type": "code",
   "execution_count": 330,
   "id": "0cb202f4",
   "metadata": {},
   "outputs": [
    {
     "name": "stdout",
     "output_type": "stream",
     "text": [
      "0.019077777862548828\n"
     ]
    }
   ],
   "source": [
    "def collection_map(theta, phi, collection_direction, collection_angle): # collection optic half angle\n",
    "    u = np.transpose(spherical_unit(theta, phi)) # gives (THETA, PHI, u) for meshgrid (THETA, PHI)\n",
    "    dotp = np.round(np.dot(u, collection_direction),15) # round for precision \n",
    "    return np.less(np.arccos(dotp), collection_angle)\n",
    "    \n",
    "def spherical_unit(theta, phi):\n",
    "    x = np.sin(theta)*np.cos(phi)\n",
    "    y = np.sin(theta)*np.sin(phi)\n",
    "    z = np.cos(theta)\n",
    "    return np.array([x,y,z])\n",
    "\n",
    "t0 = time.time()\n",
    "deg_step = 0.5\n",
    "theta = get_theta(deg_step)\n",
    "phi = get_phi(deg_step)\n",
    "theta1, theta2  = np.radians(144), np.radians(156) # BCP\n",
    "collection_angle = (theta2 - theta1)/2\n",
    "collection_theta = (theta2 + theta1)/2\n",
    "collection_direction = spherical_unit(collection_theta, 0)\n",
    "\n",
    "THETA, PHI = np.meshgrid(theta, phi, indexing='ij') \n",
    "collection_map = collection_map(THETA, PHI, collection_direction, collection_angle)\n",
    "t1 = time.time()\n",
    "print(t1-t0)"
   ]
  },
  {
   "cell_type": "code",
   "execution_count": null,
   "id": "e7ff83c3",
   "metadata": {},
   "outputs": [],
   "source": [
    "t0 = time.time()\n",
    "min_um, max_um, um_step = 1, 50, 0.05\n",
    "wavelength = 658e-9 # BCP\n",
    "size_range = get_size_range(min_um, max_um, um_step)\n",
    "d_sigmas_bcp = list(map(lambda x: differential_sigma(x, wavelength, theta), size_range))\n",
    "t1 = time.time()\n",
    "print(t1-t0)"
   ]
  },
  {
   "cell_type": "code",
   "execution_count": null,
   "id": "76a007b9",
   "metadata": {},
   "outputs": [],
   "source": [
    "def get_integrand(d_sigma, collection_map):\n",
    "    rows = np.shape(collection_map)[0]\n",
    "    return np.array([d_sigma]*rows)*collection_map\n",
    "\n",
    "t0 = time.time()\n",
    "integrands = list(map(lambda x: get_integrand(x,collection_map), d_sigmas_bcp))                    \n",
    "int_sigmas_bcp = list(map(lambda x: sint_sphere(theta, phi, x), integrands))\n",
    "t1 = time.time()\n",
    "print(t1-t0)\n",
    "\n",
    "plt.yscale(\"log\")\n",
    "plt.xscale(\"log\")\n",
    "plt.plot(size_range, int_sigmas_bcp, linewidth=0.33, color=\"red\")"
   ]
  },
  {
   "cell_type": "code",
   "execution_count": null,
   "id": "a3f47d2a",
   "metadata": {},
   "outputs": [],
   "source": []
  }
 ],
 "metadata": {
  "kernelspec": {
   "display_name": "scattnlay-env",
   "language": "python",
   "name": "scattnlay-env"
  },
  "language_info": {
   "codemirror_mode": {
    "name": "ipython",
    "version": 3
   },
   "file_extension": ".py",
   "mimetype": "text/x-python",
   "name": "python",
   "nbconvert_exporter": "python",
   "pygments_lexer": "ipython3",
   "version": "3.9.12"
  }
 },
 "nbformat": 4,
 "nbformat_minor": 5
}
